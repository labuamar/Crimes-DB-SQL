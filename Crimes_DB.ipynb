{
 "cells": [
  {
   "cell_type": "markdown",
   "metadata": {},
   "source": [
    "# Building a Crimes Database with Postgres\n",
    "\n",
    "The purpose of this project is to create a database for storing data related to crimes that occurred in Boston. \n",
    "\n",
    "The objectives for this database are:\n",
    "\n",
    "- Create a database ```crimes_db``` with a table ```boston_crimes``` with appropriate data types\n",
    "- Create a schema and create the table inside it\n",
    "- Loading the data from ```boston.csv``` in the table\n",
    "- Create readonly and readwrite groups with appropriate privileges\n",
    "- Create users for each of the groups"
   ]
  },
  {
   "cell_type": "code",
   "execution_count": null,
   "metadata": {},
   "outputs": [],
   "source": [
    "import psycopg2\n",
    "conn = psycopg2.connect(\"dbname = dq user = dq\")\n",
    "cur = conn.cursor()\n",
    "conn.autocommit = True\n",
    "cur.execute('CREATE DATABASE crimes_db;')\n",
    "conn.close()"
   ]
  },
  {
   "cell_type": "code",
   "execution_count": null,
   "metadata": {},
   "outputs": [],
   "source": [
    "conn = psycopg2.connect(\"dbname = crimes_db user = dq\")\n",
    "cur = conn.cursor()\n",
    "cur.execute('CREATE SCHEMA crimes_sch;')"
   ]
  },
  {
   "cell_type": "code",
   "execution_count": null,
   "metadata": {},
   "outputs": [],
   "source": [
    "import csv\n",
    "rows = []\n",
    "with open('boston.csv') as file:\n",
    "    reader = csv.reader(file)\n",
    "    for row in reader:\n",
    "        rows.append(row)\n",
    "        \n",
    "col_headers = rows[0]\n",
    "first_row = row[1]\n",
    "\n",
    "print(rows[0])\n",
    "print(rows[1])"
   ]
  },
  {
   "cell_type": "code",
   "execution_count": null,
   "metadata": {},
   "outputs": [],
   "source": [
    "import pandas as pd\n",
    "def get_col_set(file, index):\n",
    "    df = pd.read_csv(file)\n",
    "    return set(df.iloc[:,index])"
   ]
  },
  {
   "cell_type": "code",
   "execution_count": null,
   "metadata": {},
   "outputs": [],
   "source": [
    "for item in range(len(col_headers)):\n",
    "    print(len(get_col_set(\"boston.csv\", item)))"
   ]
  },
  {
   "cell_type": "code",
   "execution_count": null,
   "metadata": {},
   "outputs": [],
   "source": [
    "col_values = get_col_set(\"boston.csv\", 2)\n",
    "len(max(col_values, key=len))"
   ]
  },
  {
   "cell_type": "code",
   "execution_count": null,
   "metadata": {},
   "outputs": [],
   "source": [
    "off_code_col = get_col_set(\"boston.csv\", 1)\n",
    "print(min(off_code_col), max(off_code_col))"
   ]
  },
  {
   "cell_type": "code",
   "execution_count": null,
   "metadata": {},
   "outputs": [],
   "source": [
    "lat_col = get_col_set(\"boston.csv\", -2)\n",
    "print(min(lat_col), max(lat_col))"
   ]
  },
  {
   "cell_type": "code",
   "execution_count": null,
   "metadata": {},
   "outputs": [],
   "source": [
    "long_col = get_col_set(\"boston.csv\", -1)\n",
    "print(min(long_col), max(long_col))"
   ]
  },
  {
   "cell_type": "markdown",
   "metadata": {},
   "source": [
    "After inspecting the dataset content, I can move on to creating the table. To do that, the datatypes must be specified for each column. \n",
    "\n",
    "Before I create the table, I create an enumerated datatype for the day of the week column:"
   ]
  },
  {
   "cell_type": "code",
   "execution_count": null,
   "metadata": {},
   "outputs": [],
   "source": [
    "cur.execute(\"CREATE TYPE days_week AS ENUM ('Saturday', 'Sunday', 'Monday', 'Tuesday', 'Wednesday', 'Thursday', 'Friday');\")"
   ]
  },
  {
   "cell_type": "markdown",
   "metadata": {},
   "source": [
    "Now, for the creation of the table:"
   ]
  },
  {
   "cell_type": "code",
   "execution_count": null,
   "metadata": {},
   "outputs": [],
   "source": [
    "cur.execute(\"\"\"CREATE TABLE crimes_sch.boston_crimes (\n",
    "    incident_number serial PRIMARY KEY,\n",
    "    offense_code smallint,\n",
    "    description VARCHAR(100),\n",
    "    date date,\n",
    "    day_of_the_week days_week,\n",
    "    lat decimal(10,8),\n",
    "    long decimal(10,8)\n",
    ");\"\"\")"
   ]
  },
  {
   "cell_type": "code",
   "execution_count": null,
   "metadata": {},
   "outputs": [],
   "source": [
    "with open(\"boston.csv\") as f:\n",
    "    cur.copy_expert(\"COPY crimes_sch.boston_crimes FROM STDIN WITH CSV HEADER;\", f)"
   ]
  },
  {
   "cell_type": "markdown",
   "metadata": {},
   "source": [
    "Check that all rows have been copied over:"
   ]
  },
  {
   "cell_type": "code",
   "execution_count": null,
   "metadata": {},
   "outputs": [],
   "source": [
    "cur.execute(\"SELECT * FROM crimes_sch.boston_crimes;\")\n",
    "print(len(cur.fetchall()))"
   ]
  },
  {
   "cell_type": "code",
   "execution_count": null,
   "metadata": {},
   "outputs": [],
   "source": [
    "cur.execute(\"REVOKE ALL ON SCHEMA public FROM public;\")\n",
    "cur.execute(\"REVOKE ALL ON DATABASE crimes_db FROM public;\")\n",
    "conn.commit()"
   ]
  },
  {
   "cell_type": "code",
   "execution_count": null,
   "metadata": {},
   "outputs": [],
   "source": []
  }
 ],
 "metadata": {
  "kernelspec": {
   "display_name": "Python 3.8.10 64-bit",
   "language": "python",
   "name": "python3"
  },
  "language_info": {
   "name": "python",
   "version": "3.8.10"
  },
  "orig_nbformat": 4,
  "vscode": {
   "interpreter": {
    "hash": "916dbcbb3f70747c44a77c7bcd40155683ae19c65e1c03b4aa3499c5328201f1"
   }
  }
 },
 "nbformat": 4,
 "nbformat_minor": 2
}
