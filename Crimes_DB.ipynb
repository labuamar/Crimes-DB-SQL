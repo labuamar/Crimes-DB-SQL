{
 "cells": [
  {
   "cell_type": "markdown",
   "metadata": {},
   "source": [
    "# Building a Crimes Database with Postgres\n",
    "\n",
    "The purpose of this project is to create a database for storing data related to crimes that occurred in Boston. \n",
    "\n",
    "The objectives for this database are:\n",
    "\n",
    "- Create a database ```crimes_db``` with a table ```boston_crimes``` with appropriate data types\n",
    "- Create a schema and create the table inside it\n",
    "- Loading the data from ```boston.csv``` in the table\n",
    "- Create readonly and readwrite groups with appropriate privileges\n",
    "- Create users for each of the groups"
   ]
  },
  {
   "cell_type": "code",
   "execution_count": 2,
   "metadata": {},
   "outputs": [],
   "source": [
    "import psycopg2\n",
    "conn = psycopg2.connect(host = \"rds-postgres-crimes.c2vaexwxf4rt.us-east-2.rds.amazonaws.com\", database = \"postgres\",\n",
    "user = \"postgres\", password= \"#####\", port=5432)"
   ]
  },
  {
   "cell_type": "code",
   "execution_count": 3,
   "metadata": {},
   "outputs": [],
   "source": [
    "# import psycopg2\n",
    "# conn = psycopg2.connect(\"dbname = dq user = dq\")\n",
    "cur = conn.cursor()\n",
    "conn.autocommit = True\n",
    "cur.execute('CREATE DATABASE crimes_db;')\n",
    "conn.close()"
   ]
  },
  {
   "cell_type": "code",
   "execution_count": 5,
   "metadata": {},
   "outputs": [],
   "source": [
    "conn = psycopg2.connect(host = \"rds-postgres-crimes.c2vaexwxf4rt.us-east-2.rds.amazonaws.com\", database = \"crimes_db\",\n",
    "user = \"postgres\", password= \"postgres123\", port=5432)\n",
    "cur = conn.cursor()\n",
    "cur.execute('CREATE SCHEMA crimes_sch;')"
   ]
  },
  {
   "cell_type": "code",
   "execution_count": 7,
   "metadata": {},
   "outputs": [
    {
     "name": "stdout",
     "output_type": "stream",
     "text": [
      "['incident_number', 'offense_code', 'description', 'date', 'day_of_the_week', 'lat', 'long']\n",
      "['1', '619', 'LARCENY ALL OTHERS', '2018-09-02', 'Sunday', '42.35779134', '-71.13937053']\n"
     ]
    }
   ],
   "source": [
    "import csv\n",
    "rows = []\n",
    "with open('boston.csv') as file:\n",
    "    reader = csv.reader(file)\n",
    "    for row in reader:\n",
    "        rows.append(row)\n",
    "        \n",
    "col_headers = rows[0]\n",
    "first_row = row[1]\n",
    "\n",
    "print(rows[0])\n",
    "print(rows[1])"
   ]
  },
  {
   "cell_type": "code",
   "execution_count": 8,
   "metadata": {},
   "outputs": [],
   "source": [
    "import pandas as pd\n",
    "def get_col_set(file, index):\n",
    "    df = pd.read_csv(file)\n",
    "    return set(df.iloc[:,index])"
   ]
  },
  {
   "cell_type": "code",
   "execution_count": 9,
   "metadata": {},
   "outputs": [
    {
     "name": "stdout",
     "output_type": "stream",
     "text": [
      "298329\n",
      "219\n",
      "239\n",
      "1177\n",
      "7\n",
      "18177\n",
      "18177\n"
     ]
    }
   ],
   "source": [
    "for item in range(len(col_headers)):\n",
    "    print(len(get_col_set(\"boston.csv\", item)))"
   ]
  },
  {
   "cell_type": "code",
   "execution_count": 10,
   "metadata": {},
   "outputs": [
    {
     "data": {
      "text/plain": [
       "58"
      ]
     },
     "execution_count": 10,
     "metadata": {},
     "output_type": "execute_result"
    }
   ],
   "source": [
    "col_values = get_col_set(\"boston.csv\", 2)\n",
    "len(max(col_values, key=len))"
   ]
  },
  {
   "cell_type": "code",
   "execution_count": 11,
   "metadata": {},
   "outputs": [
    {
     "name": "stdout",
     "output_type": "stream",
     "text": [
      "111 3831\n"
     ]
    }
   ],
   "source": [
    "off_code_col = get_col_set(\"boston.csv\", 1)\n",
    "print(min(off_code_col), max(off_code_col))"
   ]
  },
  {
   "cell_type": "code",
   "execution_count": 12,
   "metadata": {},
   "outputs": [
    {
     "name": "stdout",
     "output_type": "stream",
     "text": [
      "42.2324133 42.39504158\n"
     ]
    }
   ],
   "source": [
    "lat_col = get_col_set(\"boston.csv\", -2)\n",
    "print(min(lat_col), max(lat_col))"
   ]
  },
  {
   "cell_type": "code",
   "execution_count": 13,
   "metadata": {},
   "outputs": [
    {
     "name": "stdout",
     "output_type": "stream",
     "text": [
      "-71.17867378 -70.96367615\n"
     ]
    }
   ],
   "source": [
    "long_col = get_col_set(\"boston.csv\", -1)\n",
    "print(min(long_col), max(long_col))"
   ]
  },
  {
   "cell_type": "markdown",
   "metadata": {},
   "source": [
    "After inspecting the dataset content, I can move on to creating the table. To do that, the datatypes must be specified for each column. \n",
    "\n",
    "Before I create the table, I create an enumerated datatype for the day of the week column:"
   ]
  },
  {
   "cell_type": "code",
   "execution_count": 14,
   "metadata": {},
   "outputs": [],
   "source": [
    "cur.execute(\"CREATE TYPE days_week AS ENUM ('Saturday', 'Sunday', 'Monday', 'Tuesday', 'Wednesday', 'Thursday', 'Friday');\")"
   ]
  },
  {
   "cell_type": "markdown",
   "metadata": {},
   "source": [
    "Now, for the creation of the table:"
   ]
  },
  {
   "cell_type": "code",
   "execution_count": 15,
   "metadata": {},
   "outputs": [],
   "source": [
    "cur.execute(\"\"\"CREATE TABLE crimes_sch.boston_crimes (\n",
    "    incident_number serial PRIMARY KEY,\n",
    "    offense_code smallint,\n",
    "    description VARCHAR(100),\n",
    "    date date,\n",
    "    day_of_the_week days_week,\n",
    "    lat decimal(10,8),\n",
    "    long decimal(10,8)\n",
    ");\"\"\")"
   ]
  },
  {
   "cell_type": "code",
   "execution_count": 16,
   "metadata": {},
   "outputs": [],
   "source": [
    "with open(\"boston.csv\") as f:\n",
    "    cur.copy_expert(\"COPY crimes_sch.boston_crimes FROM STDIN WITH CSV HEADER;\", f)"
   ]
  },
  {
   "cell_type": "markdown",
   "metadata": {},
   "source": [
    "Check that all rows have been copied over:"
   ]
  },
  {
   "cell_type": "code",
   "execution_count": 17,
   "metadata": {},
   "outputs": [
    {
     "name": "stdout",
     "output_type": "stream",
     "text": [
      "298329\n"
     ]
    }
   ],
   "source": [
    "cur.execute(\"SELECT * FROM crimes_sch.boston_crimes;\")\n",
    "print(len(cur.fetchall()))"
   ]
  },
  {
   "cell_type": "markdown",
   "metadata": {},
   "source": [
    "Revoke public users privileges:"
   ]
  },
  {
   "cell_type": "code",
   "execution_count": 18,
   "metadata": {},
   "outputs": [],
   "source": [
    "cur.execute(\"REVOKE ALL ON SCHEMA public FROM public;\")\n",
    "cur.execute(\"REVOKE ALL ON DATABASE crimes_db FROM public;\")\n",
    "conn.commit()"
   ]
  },
  {
   "cell_type": "markdown",
   "metadata": {},
   "source": [
    "Creating readonly and readwrite groups with appropriate privileges and assigning data analysts and scientists to them:"
   ]
  },
  {
   "cell_type": "code",
   "execution_count": 19,
   "metadata": {},
   "outputs": [],
   "source": [
    "cur.execute(\"CREATE GROUP readonly NOLOGIN;\")\n",
    "cur.execute(\"CREATE GROUP readwrite NOLOGIN;\")\n",
    "\n",
    "cur.execute(\"GRANT CONNECT ON DATABASE crimes_db TO readonly;\")\n",
    "cur.execute(\"GRANT CONNECT ON DATABASE crimes_db TO readwrite;\")\n",
    "\n",
    "cur.execute(\"GRANT USAGE ON SCHEMA crimes_sch TO readonly;\")\n",
    "cur.execute(\"GRANT USAGE ON SCHEMA crimes_sch TO readwrite;\")\n",
    "\n",
    "cur.execute(\"GRANT SELECT ON ALL TABLES IN SCHEMA crimes_sch TO readonly;\")\n",
    "cur.execute(\"GRANT SELECT, INSERT, DELETE, UPDATE ON ALL TABLES IN SCHEMA crimes_sch TO readwrite;\")\n",
    "\n",
    "conn.commit()"
   ]
  },
  {
   "cell_type": "code",
   "execution_count": 20,
   "metadata": {},
   "outputs": [],
   "source": [
    "cur.execute(\"\"\"CREATE USER data_analyst WITH PASSWORD 'secret1';\"\"\")\n",
    "cur.execute(\"\"\"GRANT data_analyst TO readonly;\"\"\")\n",
    "cur.execute(\"\"\"CREATE USER data_scientist WITH PASSWORD 'secret2';\"\"\")\n",
    "cur.execute(\"\"\"GRANT data_scientist TO readwrite;\"\"\")\n",
    "\n",
    "conn.commit()"
   ]
  },
  {
   "cell_type": "code",
   "execution_count": 21,
   "metadata": {},
   "outputs": [],
   "source": [
    "conn.close()"
   ]
  }
 ],
 "metadata": {
  "kernelspec": {
   "display_name": "Python 3.8.12 ('FDS-P1')",
   "language": "python",
   "name": "python3"
  },
  "language_info": {
   "codemirror_mode": {
    "name": "ipython",
    "version": 3
   },
   "file_extension": ".py",
   "mimetype": "text/x-python",
   "name": "python",
   "nbconvert_exporter": "python",
   "pygments_lexer": "ipython3",
   "version": "3.8.12"
  },
  "orig_nbformat": 4,
  "vscode": {
   "interpreter": {
    "hash": "6d7a88674648f7d2565d7aedea9eccf2689f8719903ef66e4603d5e28f6bda89"
   }
  }
 },
 "nbformat": 4,
 "nbformat_minor": 2
}
